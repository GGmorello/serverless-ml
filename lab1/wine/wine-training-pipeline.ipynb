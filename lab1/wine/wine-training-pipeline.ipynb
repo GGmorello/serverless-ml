{
 "cells": [
  {
   "cell_type": "code",
   "execution_count": 1,
   "id": "063d9a22",
   "metadata": {},
   "outputs": [],
   "source": [
    "import hopsworks\n",
    "import pandas as pd\n",
    "from sklearn.neighbors import KNeighborsClassifier\n",
    "from sklearn.metrics import accuracy_score\n",
    "from sklearn.metrics import confusion_matrix\n",
    "from sklearn.metrics import classification_report\n",
    "import seaborn as sns\n",
    "from matplotlib import pyplot\n",
    "from hsml.schema import Schema\n",
    "from hsml.model_schema import ModelSchema\n",
    "import joblib\n",
    "import os"
   ]
  },
  {
   "cell_type": "code",
   "execution_count": 2,
   "id": "ca8d99df",
   "metadata": {},
   "outputs": [],
   "source": [
    "import os\n",
    "for k, v in os.environ.items():\n",
    "    if \"HOPS\" in k:\n",
    "        print(f'{k}={v}')"
   ]
  },
  {
   "cell_type": "code",
   "execution_count": 3,
   "id": "5ce90341",
   "metadata": {},
   "outputs": [
    {
     "name": "stdout",
     "output_type": "stream",
     "text": [
      "Connected. Call `.close()` to terminate connection gracefully.\n",
      "\n",
      "Logged in to project, explore it here https://c.app.hopsworks.ai:443/p/193684\n",
      "Connected. Call `.close()` to terminate connection gracefully.\n"
     ]
    }
   ],
   "source": [
    "# You have to set the environment variable 'HOPSWORKS_API_KEY' for login to succeed\n",
    "project = hopsworks.login()\n",
    "fs = project.get_feature_store()"
   ]
  },
  {
   "cell_type": "code",
   "execution_count": 25,
   "id": "359ed7b3",
   "metadata": {},
   "outputs": [
    {
     "name": "stdout",
     "output_type": "stream",
     "text": [
      "Feature view created successfully, explore it at \n",
      "https://c.app.hopsworks.ai:443/p/193684/fs/193603/fv/wine/version/1\n",
      "<hsfs.feature_view.FeatureView object at 0x177f81450>\n"
     ]
    }
   ],
   "source": [
    "# The feature view is the input set of features for your model. The features can come from different feature groups.    \n",
    "# You can select features from different feature groups and join them together to create a feature view\n",
    "wine_fg = fs.get_feature_group(name=\"wine\", version=1)\n",
    "query = wine_fg.select_all()\n",
    "feature_view = fs.get_or_create_feature_view(name=\"wine\",\n",
    "                                  version=1,\n",
    "                                  description=\"Read from wine dataset\",\n",
    "                                  labels=[\"quality\"],\n",
    "                                  query=query)\n",
    "print(feature_view)"
   ]
  },
  {
   "cell_type": "code",
   "execution_count": 28,
   "metadata": {},
   "outputs": [
    {
     "name": "stdout",
     "output_type": "stream",
     "text": [
      "Training dataset job started successfully, you can follow the progress at \n",
      "https://c.app.hopsworks.ai/p/193684/jobs/named/wine_1_create_fv_td_08112023180859/executions\n"
     ]
    },
    {
     "ename": "KeyboardInterrupt",
     "evalue": "",
     "output_type": "error",
     "traceback": [
      "\u001b[0;31m---------------------------------------------------------------------------\u001b[0m",
      "\u001b[0;31mKeyboardInterrupt\u001b[0m                         Traceback (most recent call last)",
      "\u001b[1;32m/Users/gabrielemorello/Code/serverless-ml/lab1/wine/wine-training-pipeline.ipynb Cell 5\u001b[0m line \u001b[0;36m2\n\u001b[1;32m      <a href='vscode-notebook-cell:/Users/gabrielemorello/Code/serverless-ml/lab1/wine/wine-training-pipeline.ipynb#X14sZmlsZQ%3D%3D?line=0'>1</a>\u001b[0m \u001b[39m# You can read training data, randomly split into train/test sets of features (X) and labels (y)        \u001b[39;00m\n\u001b[0;32m----> <a href='vscode-notebook-cell:/Users/gabrielemorello/Code/serverless-ml/lab1/wine/wine-training-pipeline.ipynb#X14sZmlsZQ%3D%3D?line=1'>2</a>\u001b[0m X_train, X_test, y_train, y_test \u001b[39m=\u001b[39m feature_view\u001b[39m.\u001b[39;49mcreate_train_test_split(\u001b[39m0.2\u001b[39;49m)\n",
      "File \u001b[0;32m~/miniforge3/envs/scalable/lib/python3.10/site-packages/hsfs/feature_view.py:1188\u001b[0m, in \u001b[0;36mFeatureView.create_train_test_split\u001b[0;34m(self, test_size, train_start, train_end, test_start, test_end, storage_connector, location, description, extra_filter, data_format, coalesce, seed, statistics_config, write_options, spine)\u001b[0m\n\u001b[1;32m   1167\u001b[0m td \u001b[39m=\u001b[39m training_dataset\u001b[39m.\u001b[39mTrainingDataset(\n\u001b[1;32m   1168\u001b[0m     name\u001b[39m=\u001b[39m\u001b[39mself\u001b[39m\u001b[39m.\u001b[39mname,\n\u001b[1;32m   1169\u001b[0m     version\u001b[39m=\u001b[39m\u001b[39mNone\u001b[39;00m,\n\u001b[0;32m   (...)\u001b[0m\n\u001b[1;32m   1185\u001b[0m     extra_filter\u001b[39m=\u001b[39mextra_filter,\n\u001b[1;32m   1186\u001b[0m )\n\u001b[1;32m   1187\u001b[0m \u001b[39m# td_job is used only if the python engine is used\u001b[39;00m\n\u001b[0;32m-> 1188\u001b[0m td, td_job \u001b[39m=\u001b[39m \u001b[39mself\u001b[39;49m\u001b[39m.\u001b[39;49m_feature_view_engine\u001b[39m.\u001b[39;49mcreate_training_dataset(\n\u001b[1;32m   1189\u001b[0m     \u001b[39mself\u001b[39;49m, td, write_options, spine\n\u001b[1;32m   1190\u001b[0m )\n\u001b[1;32m   1191\u001b[0m warnings\u001b[39m.\u001b[39mwarn(\n\u001b[1;32m   1192\u001b[0m     \u001b[39m\"\u001b[39m\u001b[39mIncremented version to `\u001b[39m\u001b[39m{}\u001b[39;00m\u001b[39m`.\u001b[39m\u001b[39m\"\u001b[39m\u001b[39m.\u001b[39mformat(td\u001b[39m.\u001b[39mversion),\n\u001b[1;32m   1193\u001b[0m     util\u001b[39m.\u001b[39mVersionWarning,\n\u001b[1;32m   1194\u001b[0m )\n\u001b[1;32m   1196\u001b[0m \u001b[39mreturn\u001b[39;00m td\u001b[39m.\u001b[39mversion, td_job\n",
      "File \u001b[0;32m~/miniforge3/envs/scalable/lib/python3.10/site-packages/hsfs/core/feature_view_engine.py:222\u001b[0m, in \u001b[0;36mFeatureViewEngine.create_training_dataset\u001b[0;34m(self, feature_view_obj, training_dataset_obj, user_write_options, spine)\u001b[0m\n\u001b[1;32m    218\u001b[0m \u001b[39mself\u001b[39m\u001b[39m.\u001b[39m_set_event_time(feature_view_obj, training_dataset_obj)\n\u001b[1;32m    219\u001b[0m updated_instance \u001b[39m=\u001b[39m \u001b[39mself\u001b[39m\u001b[39m.\u001b[39m_create_training_data_metadata(\n\u001b[1;32m    220\u001b[0m     feature_view_obj, training_dataset_obj\n\u001b[1;32m    221\u001b[0m )\n\u001b[0;32m--> 222\u001b[0m td_job \u001b[39m=\u001b[39m \u001b[39mself\u001b[39;49m\u001b[39m.\u001b[39;49mcompute_training_dataset(\n\u001b[1;32m    223\u001b[0m     feature_view_obj,\n\u001b[1;32m    224\u001b[0m     user_write_options,\n\u001b[1;32m    225\u001b[0m     training_dataset_obj\u001b[39m=\u001b[39;49mtraining_dataset_obj,\n\u001b[1;32m    226\u001b[0m     spine\u001b[39m=\u001b[39;49mspine,\n\u001b[1;32m    227\u001b[0m )\n\u001b[1;32m    228\u001b[0m \u001b[39mreturn\u001b[39;00m updated_instance, td_job\n",
      "File \u001b[0;32m~/miniforge3/envs/scalable/lib/python3.10/site-packages/hsfs/core/feature_view_engine.py:419\u001b[0m, in \u001b[0;36mFeatureViewEngine.compute_training_dataset\u001b[0;34m(self, feature_view_obj, user_write_options, training_dataset_obj, training_dataset_version, spine)\u001b[0m\n\u001b[1;32m    409\u001b[0m     \u001b[39mraise\u001b[39;00m \u001b[39mValueError\u001b[39;00m(\u001b[39m\"\u001b[39m\u001b[39mNo training dataset object or version is provided\u001b[39m\u001b[39m\"\u001b[39m)\n\u001b[1;32m    411\u001b[0m batch_query \u001b[39m=\u001b[39m \u001b[39mself\u001b[39m\u001b[39m.\u001b[39mget_batch_query(\n\u001b[1;32m    412\u001b[0m     feature_view_obj,\n\u001b[1;32m    413\u001b[0m     training_dataset_obj\u001b[39m.\u001b[39mevent_start_time,\n\u001b[0;32m   (...)\u001b[0m\n\u001b[1;32m    417\u001b[0m     spine\u001b[39m=\u001b[39mspine,\n\u001b[1;32m    418\u001b[0m )\n\u001b[0;32m--> 419\u001b[0m td_job \u001b[39m=\u001b[39m engine\u001b[39m.\u001b[39;49mget_instance()\u001b[39m.\u001b[39;49mwrite_training_dataset(\n\u001b[1;32m    420\u001b[0m     training_dataset_obj,\n\u001b[1;32m    421\u001b[0m     batch_query,\n\u001b[1;32m    422\u001b[0m     user_write_options,\n\u001b[1;32m    423\u001b[0m     \u001b[39mself\u001b[39;49m\u001b[39m.\u001b[39;49m_OVERWRITE,\n\u001b[1;32m    424\u001b[0m     feature_view_obj\u001b[39m=\u001b[39;49mfeature_view_obj,\n\u001b[1;32m    425\u001b[0m )\n\u001b[1;32m    426\u001b[0m \u001b[39mself\u001b[39m\u001b[39m.\u001b[39m_td_code_engine\u001b[39m.\u001b[39msave_code(training_dataset_obj)\n\u001b[1;32m    427\u001b[0m \u001b[39mif\u001b[39;00m engine\u001b[39m.\u001b[39mget_type() \u001b[39m==\u001b[39m \u001b[39m\"\u001b[39m\u001b[39mspark\u001b[39m\u001b[39m\"\u001b[39m:\n",
      "File \u001b[0;32m~/miniforge3/envs/scalable/lib/python3.10/site-packages/hsfs/engine/python.py:724\u001b[0m, in \u001b[0;36mEngine.write_training_dataset\u001b[0;34m(self, training_dataset, dataset, user_write_options, save_mode, feature_view_obj, to_df)\u001b[0m\n\u001b[1;32m    717\u001b[0m     td_job \u001b[39m=\u001b[39m td_api\u001b[39m.\u001b[39mcompute(training_dataset, td_app_conf)\n\u001b[1;32m    718\u001b[0m \u001b[39mprint\u001b[39m(\n\u001b[1;32m    719\u001b[0m     \u001b[39m\"\u001b[39m\u001b[39mTraining dataset job started successfully, you can follow the progress at \u001b[39m\u001b[39m\\n\u001b[39;00m\u001b[39m{}\u001b[39;00m\u001b[39m\"\u001b[39m\u001b[39m.\u001b[39mformat(\n\u001b[1;32m    720\u001b[0m         \u001b[39mself\u001b[39m\u001b[39m.\u001b[39mget_job_url(td_job\u001b[39m.\u001b[39mhref)\n\u001b[1;32m    721\u001b[0m     )\n\u001b[1;32m    722\u001b[0m )\n\u001b[0;32m--> 724\u001b[0m \u001b[39mself\u001b[39;49m\u001b[39m.\u001b[39;49mwait_for_job(\n\u001b[1;32m    725\u001b[0m     td_job,\n\u001b[1;32m    726\u001b[0m     await_termination\u001b[39m=\u001b[39;49muser_write_options\u001b[39m.\u001b[39;49mget(\u001b[39m\"\u001b[39;49m\u001b[39mwait_for_job\u001b[39;49m\u001b[39m\"\u001b[39;49m, \u001b[39mTrue\u001b[39;49;00m),\n\u001b[1;32m    727\u001b[0m )\n\u001b[1;32m    729\u001b[0m \u001b[39mreturn\u001b[39;00m td_job\n",
      "File \u001b[0;32m~/miniforge3/envs/scalable/lib/python3.10/site-packages/hsfs/engine/python.py:848\u001b[0m, in \u001b[0;36mEngine.wait_for_job\u001b[0;34m(self, job, await_termination)\u001b[0m\n\u001b[1;32m    845\u001b[0m \u001b[39melif\u001b[39;00m execution\u001b[39m.\u001b[39mfinal_status\u001b[39m.\u001b[39mlower() \u001b[39m==\u001b[39m \u001b[39m\"\u001b[39m\u001b[39mkilled\u001b[39m\u001b[39m\"\u001b[39m:\n\u001b[1;32m    846\u001b[0m     \u001b[39mraise\u001b[39;00m exceptions\u001b[39m.\u001b[39mFeatureStoreException(\u001b[39m\"\u001b[39m\u001b[39mThe Hopsworks Job was stopped\u001b[39m\u001b[39m\"\u001b[39m)\n\u001b[0;32m--> 848\u001b[0m time\u001b[39m.\u001b[39;49msleep(\u001b[39m3\u001b[39;49m)\n",
      "\u001b[0;31mKeyboardInterrupt\u001b[0m: "
     ]
    }
   ],
   "source": [
    "# You can read training data, randomly split into train/test sets of features (X) and labels (y)        \n",
    "X_train, X_test, y_train, y_test = feature_view.create_train_test_split(0.2)\n"
   ]
  },
  {
   "cell_type": "code",
   "execution_count": 46,
   "id": "42fbcfd3",
   "metadata": {},
   "outputs": [
    {
     "name": "stderr",
     "output_type": "stream",
     "text": [
      "DataConversionWarning: A column-vector y was passed when a 1d array was expected. Please change the shape of y to (n_samples, ), for example using ravel().\n"
     ]
    },
    {
     "data": {
      "text/html": [
       "<style>#sk-container-id-4 {color: black;background-color: white;}#sk-container-id-4 pre{padding: 0;}#sk-container-id-4 div.sk-toggleable {background-color: white;}#sk-container-id-4 label.sk-toggleable__label {cursor: pointer;display: block;width: 100%;margin-bottom: 0;padding: 0.3em;box-sizing: border-box;text-align: center;}#sk-container-id-4 label.sk-toggleable__label-arrow:before {content: \"▸\";float: left;margin-right: 0.25em;color: #696969;}#sk-container-id-4 label.sk-toggleable__label-arrow:hover:before {color: black;}#sk-container-id-4 div.sk-estimator:hover label.sk-toggleable__label-arrow:before {color: black;}#sk-container-id-4 div.sk-toggleable__content {max-height: 0;max-width: 0;overflow: hidden;text-align: left;background-color: #f0f8ff;}#sk-container-id-4 div.sk-toggleable__content pre {margin: 0.2em;color: black;border-radius: 0.25em;background-color: #f0f8ff;}#sk-container-id-4 input.sk-toggleable__control:checked~div.sk-toggleable__content {max-height: 200px;max-width: 100%;overflow: auto;}#sk-container-id-4 input.sk-toggleable__control:checked~label.sk-toggleable__label-arrow:before {content: \"▾\";}#sk-container-id-4 div.sk-estimator input.sk-toggleable__control:checked~label.sk-toggleable__label {background-color: #d4ebff;}#sk-container-id-4 div.sk-label input.sk-toggleable__control:checked~label.sk-toggleable__label {background-color: #d4ebff;}#sk-container-id-4 input.sk-hidden--visually {border: 0;clip: rect(1px 1px 1px 1px);clip: rect(1px, 1px, 1px, 1px);height: 1px;margin: -1px;overflow: hidden;padding: 0;position: absolute;width: 1px;}#sk-container-id-4 div.sk-estimator {font-family: monospace;background-color: #f0f8ff;border: 1px dotted black;border-radius: 0.25em;box-sizing: border-box;margin-bottom: 0.5em;}#sk-container-id-4 div.sk-estimator:hover {background-color: #d4ebff;}#sk-container-id-4 div.sk-parallel-item::after {content: \"\";width: 100%;border-bottom: 1px solid gray;flex-grow: 1;}#sk-container-id-4 div.sk-label:hover label.sk-toggleable__label {background-color: #d4ebff;}#sk-container-id-4 div.sk-serial::before {content: \"\";position: absolute;border-left: 1px solid gray;box-sizing: border-box;top: 0;bottom: 0;left: 50%;z-index: 0;}#sk-container-id-4 div.sk-serial {display: flex;flex-direction: column;align-items: center;background-color: white;padding-right: 0.2em;padding-left: 0.2em;position: relative;}#sk-container-id-4 div.sk-item {position: relative;z-index: 1;}#sk-container-id-4 div.sk-parallel {display: flex;align-items: stretch;justify-content: center;background-color: white;position: relative;}#sk-container-id-4 div.sk-item::before, #sk-container-id-4 div.sk-parallel-item::before {content: \"\";position: absolute;border-left: 1px solid gray;box-sizing: border-box;top: 0;bottom: 0;left: 50%;z-index: -1;}#sk-container-id-4 div.sk-parallel-item {display: flex;flex-direction: column;z-index: 1;position: relative;background-color: white;}#sk-container-id-4 div.sk-parallel-item:first-child::after {align-self: flex-end;width: 50%;}#sk-container-id-4 div.sk-parallel-item:last-child::after {align-self: flex-start;width: 50%;}#sk-container-id-4 div.sk-parallel-item:only-child::after {width: 0;}#sk-container-id-4 div.sk-dashed-wrapped {border: 1px dashed gray;margin: 0 0.4em 0.5em 0.4em;box-sizing: border-box;padding-bottom: 0.4em;background-color: white;}#sk-container-id-4 div.sk-label label {font-family: monospace;font-weight: bold;display: inline-block;line-height: 1.2em;}#sk-container-id-4 div.sk-label-container {text-align: center;}#sk-container-id-4 div.sk-container {/* jupyter's `normalize.less` sets `[hidden] { display: none; }` but bootstrap.min.css set `[hidden] { display: none !important; }` so we also need the `!important` here to be able to override the default hidden behavior on the sphinx rendered scikit-learn.org. See: https://github.com/scikit-learn/scikit-learn/issues/21755 */display: inline-block !important;position: relative;}#sk-container-id-4 div.sk-text-repr-fallback {display: none;}</style><div id=\"sk-container-id-4\" class=\"sk-top-container\"><div class=\"sk-text-repr-fallback\"><pre>SVC()</pre><b>In a Jupyter environment, please rerun this cell to show the HTML representation or trust the notebook. <br />On GitHub, the HTML representation is unable to render, please try loading this page with nbviewer.org.</b></div><div class=\"sk-container\" hidden><div class=\"sk-item\"><div class=\"sk-estimator sk-toggleable\"><input class=\"sk-toggleable__control sk-hidden--visually\" id=\"sk-estimator-id-4\" type=\"checkbox\" checked><label for=\"sk-estimator-id-4\" class=\"sk-toggleable__label sk-toggleable__label-arrow\">SVC</label><div class=\"sk-toggleable__content\"><pre>SVC()</pre></div></div></div></div></div>"
      ],
      "text/plain": [
       "SVC()"
      ]
     },
     "execution_count": 46,
     "metadata": {},
     "output_type": "execute_result"
    }
   ],
   "source": [
    "from sklearn.svm import SVC\n",
    "\n",
    "from sklearn.preprocessing import StandardScaler\n",
    "sc=StandardScaler()\n",
    "X_train=sc.fit_transform(X_train)\n",
    "X_test=sc.fit_transform(X_test)\n",
    "\n",
    "# Train our model with the Scikit-learn Linear Regression algorithm using our features (X_train) and labels (y_train)\n",
    "model = SVC()\n",
    "model.fit(X_train, y_train)"
   ]
  },
  {
   "cell_type": "code",
   "execution_count": 81,
   "id": "77aa0aee",
   "metadata": {},
   "outputs": [
    {
     "name": "stdout",
     "output_type": "stream",
     "text": [
      "Training Accuracy: 0.6654411764705882\n",
      "Testing Accuracy: 0.5645756457564576\n"
     ]
    }
   ],
   "source": [
    "# Evaluate model performance using the features from the test set (X_test)\n",
    "y_pred = model.predict(X_test)\n",
    "\n",
    "\n",
    "print('Training Accuracy:',model.score(X_train, y_train))\n",
    "print('Testing Accuracy:',model.score(X_test, y_test))\n",
    "# Compare predictions (y_pred) with the labels in the test set (y_test)\n",
    "metrics = classification_report(y_test, y_pred, zero_division=0, output_dict=True)\n",
    "results = confusion_matrix(y_test, y_pred)\n"
   ]
  },
  {
   "cell_type": "code",
   "execution_count": 82,
   "id": "4d944032",
   "metadata": {},
   "outputs": [
    {
     "data": {
      "image/png": "[encoded data removed]",
      "text/plain": [
       "<Figure size 640x480 with 2 Axes>"
      ]
     },
     "metadata": {},
     "output_type": "display_data"
    }
   ],
   "source": [
    "# Create the confusion matrix as a figure, we will later store it as a PNG image file with clear labels\n",
    "df_cm = pd.DataFrame(results, range(3, 9), range(3, 9))\n",
    "cm = sns.heatmap(df_cm, annot=True)\n",
    "fig = cm.get_figure()"
   ]
  },
  {
   "cell_type": "code",
   "execution_count": 83,
   "id": "bcfdfc4f",
   "metadata": {},
   "outputs": [
    {
     "name": "stdout",
     "output_type": "stream",
     "text": [
      "Connected. Call `.close()` to terminate connection gracefully.\n"
     ]
    },
    {
     "data": {
      "application/vnd.jupyter.widget-view+json": {
       "model_id": "14758d1e78ab471ea63eab9c9b8261a2",
       "version_major": 2,
       "version_minor": 0
      },
      "text/plain": [
       "  0%|          | 0/6 [00:00<?, ?it/s]"
      ]
     },
     "metadata": {},
     "output_type": "display_data"
    },
    {
     "name": "stdout",
     "output_type": "stream",
     "text": [
      "Model created, explore it at https://c.app.hopsworks.ai:443/p/193684/models/wine_model/4\n"
     ]
    },
    {
     "data": {
      "text/plain": [
       "Model(name: 'wine_model', version: 4)"
      ]
     },
     "execution_count": 83,
     "metadata": {},
     "output_type": "execute_result"
    }
   ],
   "source": [
    "# We will now upload our model to the Hopsworks Model Registry. First get an object for the model registry.\n",
    "mr = project.get_model_registry()\n",
    "\n",
    "# The contents of the 'iris_model' directory will be saved to the model registry. Create the dir, first.\n",
    "model_dir=\"wine_model\"\n",
    "if os.path.isdir(model_dir) == False:\n",
    "    os.mkdir(model_dir)\n",
    "\n",
    "# Save both our model and the confusion matrix to 'model_dir', whose contents will be uploaded to the model registry\n",
    "joblib.dump(model, model_dir + \"/wine_model.pkl\")\n",
    "fig.savefig(model_dir + \"/confusion_matrix.png\")    \n",
    "\n",
    "# Specify the schema of the model's input/output using the features (X_train) and labels (y_train)\n",
    "input_schema = Schema(X_train)\n",
    "output_schema = Schema(y_train)\n",
    "model_schema = ModelSchema(input_schema, output_schema)\n",
    "\n",
    "# Create an entry in the model registry that includes the model's name, desc, metrics\n",
    "wine_model = mr.python.create_model(\n",
    "    name=\"wine_model\", \n",
    "    metrics={\"accuracy\" : metrics['accuracy']},\n",
    "    model_schema=model_schema,\n",
    "    description=\"Wine Predictor\"\n",
    ")\n",
    "\n",
    "# Upload the model to the model registry, including all files in 'model_dir'\n",
    "wine_model.save(model_dir)"
   ]
  },
  {
   "cell_type": "code",
   "execution_count": null,
   "id": "f707b056",
   "metadata": {},
   "outputs": [],
   "source": []
  }
 ],
 "metadata": {
  "kernelspec": {
   "display_name": "Python 3 (ipykernel)",
   "language": "python",
   "name": "python3"
  },
  "language_info": {
   "codemirror_mode": {
    "name": "ipython",
    "version": 3
   },
   "file_extension": ".py",
   "mimetype": "text/x-python",
   "name": "python",
   "nbconvert_exporter": "python",
   "pygments_lexer": "ipython3",
   "version": "3.10.13"
  }
 },
 "nbformat": 4,
 "nbformat_minor": 5
}
