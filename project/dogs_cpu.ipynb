{
  "nbformat": 4,
  "nbformat_minor": 0,
  "metadata": {
    "colab": {
      "provenance": []
    },
    "kernelspec": {
      "name": "python3",
      "display_name": "Python 3"
    },
    "language_info": {
      "name": "python"
    }
  },
  "cells": [
    {
      "cell_type": "code",
      "execution_count": 1,
      "metadata": {
        "colab": {
          "base_uri": "https://localhost:8080/"
        },
        "id": "GmsfYd2aYjoz",
        "outputId": "ae222ff1-b9b6-494c-8e53-9ef10f70b922"
      },
      "outputs": [
        {
          "output_type": "stream",
          "name": "stdout",
          "text": [
            "Drive already mounted at /content/drive; to attempt to forcibly remount, call drive.mount(\"/content/drive\", force_remount=True).\n"
          ]
        }
      ],
      "source": [
        "from google.colab import drive\n",
        "drive.mount('/content/drive')"
      ]
    },
    {
      "cell_type": "code",
      "source": [
        "import shutil\n",
        "import zipfile\n",
        "import os\n",
        "\n",
        "zip_file_dogs = '/content/drive/MyDrive/dataset/all-dogs.zip'\n",
        "zip_file_annotations = '/content/drive/MyDrive/dataset/Annotation.zip'\n",
        "\n",
        "destination_dogs = '/content/all-dogs.zip'\n",
        "destination_annotations = '/content/Annotation.zip'\n",
        "\n",
        "shutil.copy(zip_file_dogs, destination_dogs)\n",
        "shutil.copy(zip_file_annotations, destination_annotations)\n",
        "\n",
        "def extract_zip(file_path, extract_to):\n",
        "    with zipfile.ZipFile(file_path, 'r') as zip_ref:\n",
        "        zip_ref.extractall(extract_to)\n",
        "\n",
        "os.makedirs('/content/all-dogs', exist_ok=True)\n",
        "os.makedirs('/content/annotations', exist_ok=True)\n",
        "\n",
        "extract_zip(destination_dogs, '/content/all-dogs')\n",
        "extract_zip(destination_annotations, '/content/annotations')\n",
        "\n",
        "print(\"Extraction complete.\")"
      ],
      "metadata": {
        "colab": {
          "base_uri": "https://localhost:8080/"
        },
        "id": "vX-z2Uk4Yrg9",
        "outputId": "892d7c2c-0ce3-4819-d9fa-142cc6191d79"
      },
      "execution_count": 3,
      "outputs": [
        {
          "output_type": "stream",
          "name": "stdout",
          "text": [
            "Extraction complete.\n"
          ]
        }
      ]
    },
    {
      "cell_type": "code",
      "source": [
        "import torch\n",
        "from torchvision import datasets, transforms\n",
        "from torch.utils.data import DataLoader\n",
        "\n",
        "batch_size = 32\n",
        "image_size = 64\n",
        "\n",
        "random_transforms = [transforms.ColorJitter(), transforms.RandomRotation(degrees=20)]\n",
        "transform = transforms.Compose([transforms.Resize(image_size),\n",
        "                                transforms.CenterCrop(image_size),\n",
        "                                transforms.RandomHorizontalFlip(p=0.5),\n",
        "                                transforms.RandomApply(random_transforms, p=0.2),\n",
        "                                transforms.ToTensor(),\n",
        "                                transforms.Normalize((0.5, 0.5, 0.5), (0.5, 0.5, 0.5))])\n",
        "\n",
        "\n",
        "train_dataset = datasets.ImageFolder('/content/all-dogs', transform=transform)\n",
        "train_loader = DataLoader(train_dataset, batch_size=batch_size, shuffle=True)\n"
      ],
      "metadata": {
        "id": "fTmPUj_mYtq7"
      },
      "execution_count": 4,
      "outputs": []
    },
    {
      "cell_type": "code",
      "source": [
        "from torchvision.utils import save_image\n",
        "import os\n",
        "\n",
        "save_dir = '/content/drive/MyDrive/dataset/processed_dogs/all-dogs'\n",
        "os.makedirs(save_dir, exist_ok=True)\n",
        "\n",
        "for batch_idx, (data, _) in enumerate(train_loader):\n",
        "    for i, img in enumerate(data):\n",
        "        img_path = os.path.join(save_dir, f'batch_{batch_idx}_image_{i}.png')\n",
        "        save_image(img, img_path)\n"
      ],
      "metadata": {
        "id": "EuPLYSQbYvIq"
      },
      "execution_count": null,
      "outputs": []
    },
    {
      "cell_type": "code",
      "source": [
        "import os\n",
        "\n",
        "def count_files(directory):\n",
        "    \"\"\"Count the number of files in a given directory.\"\"\"\n",
        "    return len([name for name in os.listdir(directory) if os.path.isfile(os.path.join(directory, name))])\n",
        "\n",
        "# Example usage\n",
        "directory_path = '/content/drive/MyDrive/dataset/processed_dogs/all-dogs'\n",
        "file_count = count_files(directory_path)\n",
        "file_count"
      ],
      "metadata": {
        "colab": {
          "base_uri": "https://localhost:8080/"
        },
        "id": "wesdlbv30-Au",
        "outputId": "4bd15c80-581c-4124-8473-52b7feb80a4d"
      },
      "execution_count": 2,
      "outputs": [
        {
          "output_type": "execute_result",
          "data": {
            "text/plain": [
              "20579"
            ]
          },
          "metadata": {},
          "execution_count": 2
        }
      ]
    }
  ]
}